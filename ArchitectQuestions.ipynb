{
 "cells": [
  {
   "cell_type": "markdown",
   "id": "ae172457",
   "metadata": {},
   "source": [
    "# Python Questions"
   ]
  },
  {
   "cell_type": "markdown",
   "id": "14a99d1d",
   "metadata": {},
   "source": [
    "### QUESTION 1\n",
    "\n",
    "---\n",
    "\n",
    "Find all of the numbers from 1-100 that have a 6 in them. Collect these numbers in a list.\n",
    "\n",
    "---\n",
    "\n"
   ]
  },
  {
   "cell_type": "code",
   "execution_count": null,
   "id": "8587eac8",
   "metadata": {},
   "outputs": [],
   "source": [
    "#Question 2 work area/answer\n",
    "\n",
    "    \n"
   ]
  },
  {
   "cell_type": "code",
   "execution_count": null,
   "id": "0f1b0663",
   "metadata": {},
   "outputs": [],
   "source": []
  },
  {
   "cell_type": "markdown",
   "id": "3e1b3400",
   "metadata": {},
   "source": [
    "### QUESTION 2\n",
    "---\n",
    "\n",
    "Use the dictionary below of students corresponding scores and return the student with the highest score.\n",
    "\n",
    "Use example data as provided:\n",
    "\n",
    "scores = {\n",
    "    \"Alice\": 85,\n",
    "    \"Bob\": 90,\n",
    "    \"Moe\": 75,\n",
    "    \"Larry\": 95,\n",
    "    \"Curly\": 80\n",
    "}\n",
    "\n",
    "---"
   ]
  },
  {
   "cell_type": "code",
   "execution_count": null,
   "id": "bac97c04",
   "metadata": {},
   "outputs": [],
   "source": [
    "#Question 3 work area/answer\n",
    "\n",
    "scores = {\n",
    "    \"Alice\": 85,\n",
    "    \"Bob\": 90,\n",
    "    \"Moe\": 75,\n",
    "    \"Larry\": 95,\n",
    "    \"Curly\": 80\n",
    "}"
   ]
  },
  {
   "cell_type": "code",
   "execution_count": null,
   "id": "9a26fc66",
   "metadata": {},
   "outputs": [],
   "source": []
  },
  {
   "cell_type": "markdown",
   "id": "c38ae77f",
   "metadata": {},
   "source": [
    "### QUESTION 3\n",
    "\n",
    "---\n",
    "\n",
    "Implement a function in Python that takes a list of integers as input and returns the maximum sum of a contiguous subarray within the list. \n",
    "\n",
    "For example, given the input list [1, -2, 3, 4, -1, 2, 1, -5, 4], the function should return 9, which corresponds to the maximum sum of the subarray [3, 4, -1, 2, 1].\n",
    "\n",
    "---\n"
   ]
  },
  {
   "cell_type": "code",
   "execution_count": null,
   "id": "627fe0aa",
   "metadata": {},
   "outputs": [],
   "source": [
    "# Question 5 work area/answers\n",
    "\n",
    "def maxsubarray(input_list):\n",
    "    ##\n"
   ]
  },
  {
   "cell_type": "code",
   "execution_count": null,
   "id": "9c33309d",
   "metadata": {},
   "outputs": [],
   "source": []
  },
  {
   "cell_type": "markdown",
   "id": "42c611f0",
   "metadata": {},
   "source": [
    "### QUESTION 4\n",
    "\n",
    "---\n",
    "\n",
    "Write a function to determine if a provided string is a palindrome.\n",
    "\n",
    "The function should return True if a string is a palindrom or False otherwise\n",
    "e.g the function _ispalindrome('abba')_ returns **True**, while _ispalindrome('abcd')_ will return **False**.\n",
    "\n",
    "Test using a list of input strings ['abba','alice','Bob','saippuakivikauppias','']\n",
    "\n",
    "---\n",
    "\n"
   ]
  },
  {
   "cell_type": "code",
   "execution_count": null,
   "id": "46dc76c2",
   "metadata": {},
   "outputs": [],
   "source": [
    "##Question 6 work area/answers\n",
    "input_strings=['abba','alice','Bob','saippuakivikauppias','']\n",
    "def ispalindrome(mystring):\n",
    "    ##\n"
   ]
  },
  {
   "cell_type": "code",
   "execution_count": null,
   "id": "62612f5c",
   "metadata": {},
   "outputs": [],
   "source": []
  },
  {
   "cell_type": "markdown",
   "id": "1b5001cd",
   "metadata": {},
   "source": [
    "### QUESTION 5\n",
    "\n",
    "---\n",
    "\n",
    "Given the python code below, describe what you believe the code to be doing.\n",
    "\n",
    "_Explain and show how you might improve this code to be more efficient. You may use numpy or other modules/libraries to help_.\n",
    "\n",
    "    \n",
    "---"
   ]
  },
  {
   "cell_type": "code",
   "execution_count": null,
   "id": "9f1db88f",
   "metadata": {},
   "outputs": [],
   "source": [
    "# Question 5 work area/answers\n",
    "numbers = range(1000000)  # Large range of numbers\n",
    "divisor = 5\n",
    "squares_sum = sum([i**2 for i in numbers if i % divisor == 0])\n",
    "print(squares_sum)"
   ]
  },
  {
   "cell_type": "code",
   "execution_count": null,
   "id": "109d4eae",
   "metadata": {},
   "outputs": [],
   "source": []
  },
  {
   "cell_type": "markdown",
   "id": "582e7202",
   "metadata": {},
   "source": [
    "# SQL/MQL questions"
   ]
  },
  {
   "cell_type": "markdown",
   "id": "116866dd",
   "metadata": {},
   "source": [
    "---\n",
    "\n",
    "Answer the questions using either SQL -  SQL Server and SSMS are installed for your use All tools are pinned to the task bar.\n",
    "\n",
    "---"
   ]
  },
  {
   "cell_type": "markdown",
   "id": "b35c1d64",
   "metadata": {},
   "source": [
    "### SQL Server/SSMS\n",
    "\n",
    "1. Find the total number of appointments that have occured at clinic 1 (clinic_id  of 1)\n",
    "2. Given two tables, \"Patients\" and \"Appointments,\" write an SQL query to retrieve patients who have not had any appointments. \n",
    "3. Write an SQL query to find the patient with the most appointments between the year 2000 and 2005.\n",
    "4. Write an SQL query to retrieve each patient who has the most appointments in each clinic.\n",
    "5. Describe what the SQL query below is attempting to achieve. Do you see any issues with it - if so, how might you improve it"
   ]
  },
  {
   "cell_type": "code",
   "execution_count": null,
   "id": "a8996c42",
   "metadata": {
    "vscode": {
     "languageId": "sql"
    }
   },
   "outputs": [],
   "source": [
    "--Question 5 SQL Server\n",
    "SELECT *\n",
    "FROM Appointments\n",
    "WHERE YEAR(AppointmentDate) = 2021\n",
    "AND MONTH(AppointmentDate) = 6\n",
    "AND DAY(AppointmentDate) = 15;"
   ]
  }
 ],
 "metadata": {
  "kernelspec": {
   "display_name": "Python 3 (ipykernel)",
   "language": "python",
   "name": "python3"
  },
  "language_info": {
   "codemirror_mode": {
    "name": "ipython",
    "version": 3
   },
   "file_extension": ".py",
   "mimetype": "text/x-python",
   "name": "python",
   "nbconvert_exporter": "python",
   "pygments_lexer": "ipython3",
   "version": "3.10.9"
  }
 },
 "nbformat": 4,
 "nbformat_minor": 5
}
